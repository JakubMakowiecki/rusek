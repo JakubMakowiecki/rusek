{
 "cells": [
  {
   "cell_type": "code",
   "execution_count": 7,
   "metadata": {},
   "outputs": [],
   "source": [
    "from tqdm import tqdm_notebook\n",
    "import os\n",
    "from skimage.io import imread\n",
    "from pathlib import Path"
   ]
  },
  {
   "cell_type": "code",
   "execution_count": 10,
   "metadata": {},
   "outputs": [
    {
     "data": {
      "application/vnd.jupyter.widget-view+json": {
       "model_id": "d3087abb206745d8bd2de2d4aab3ac8c",
       "version_major": 2,
       "version_minor": 0
      },
      "text/plain": [
       "HBox(children=(IntProgress(value=0, max=53217), HTML(value='')))"
      ]
     },
     "metadata": {},
     "output_type": "display_data"
    },
    {
     "name": "stdout",
     "output_type": "stream",
     "text": [
      "134206.jpg (508, 640)\n",
      "95753.jpg (640, 632)\n",
      "126531.jpg (490, 640)\n",
      "176483.jpg (364, 640)\n",
      "491058.jpg (640, 427)\n",
      "494273.jpg (640, 388)\n",
      "223616.jpg (383, 640)\n",
      "510587.jpg (640, 427)\n",
      "561842.jpg (480, 640)\n",
      "492325.jpg (467, 640)\n",
      "30349.jpg (381, 640)\n",
      "342921.jpg (466, 640)\n",
      "1350.jpg (498, 640)\n",
      "270925.jpg (587, 640)\n",
      "140092.jpg (514, 640)\n",
      "155811.jpg (427, 640)\n",
      "205486.jpg (427, 640)\n",
      "579239.jpg (438, 595)\n",
      "113929.jpg (484, 640)\n",
      "434765.jpg (473, 640)\n",
      "389206.jpg (436, 640)\n",
      "386204.jpg (392, 640)\n",
      "341892.jpg (467, 640)\n",
      "532787.jpg (426, 640)\n",
      "103499.jpg (425, 640)\n",
      "176397.jpg (457, 640)\n",
      "64332.jpg (362, 640)\n",
      "233263.jpg (440, 640)\n",
      "390663.jpg (511, 640)\n",
      "427401.jpg (640, 427)\n",
      "577207.jpg (640, 474)\n",
      "93120.jpg (519, 640)\n",
      "72098.jpg (640, 430)\n",
      "34861.jpg (424, 640)\n",
      "210175.jpg (496, 640)\n",
      "563447.jpg (438, 640)\n",
      "450674.jpg (426, 640)\n",
      "394547.jpg (510, 640)\n",
      "111109.jpg (640, 412)\n",
      "347111.jpg (510, 640)\n",
      "316867.jpg (640, 423)\n",
      "312288.jpg (640, 511)\n",
      "518951.jpg (640, 379)\n",
      "564314.jpg (509, 640)\n",
      "260962.jpg (504, 640)\n",
      "577265.jpg (510, 640)\n",
      "179405.jpg (486, 640)\n",
      "470442.jpg (442, 640)\n",
      "480482.jpg (421, 640)\n",
      "492395.jpg (389, 640)\n",
      "384910.jpg (640, 609)\n",
      "87509.jpg (640, 498)\n",
      "220770.jpg (494, 640)\n",
      "268036.jpg (640, 516)\n",
      "86.jpg (640, 512)\n",
      "6432.jpg (640, 491)\n",
      "264165.jpg (640, 440)\n",
      "213280.jpg (427, 640)\n",
      "363331.jpg (497, 640)\n",
      "105872.jpg (508, 640)\n",
      "259284.jpg (640, 462)\n",
      "118895.jpg (427, 640)\n",
      "381270.jpg (595, 444)\n",
      "525513.jpg (401, 634)\n",
      "134071.jpg (513, 640)\n",
      "566596.jpg (537, 640)\n",
      "35880.jpg (380, 640)\n",
      "573179.jpg (640, 529)\n",
      "11801.jpg (510, 640)\n",
      "578250.jpg (508, 640)\n",
      "507794.jpg (640, 464)\n",
      "15286.jpg (369, 640)\n",
      "123539.jpg (508, 640)\n",
      "140627.jpg (640, 510)\n",
      "476888.jpg (376, 640)\n",
      "330736.jpg (364, 640)\n",
      "185639.jpg (640, 427)\n",
      "155954.jpg (640, 426)\n",
      "33352.jpg (394, 640)\n",
      "205782.jpg (401, 640)\n"
     ]
    }
   ],
   "source": [
    "PATH = \"../../multimedia_datasets/person\"\n",
    "img_path = PATH + \"/images/\"\n",
    "mask_path = PATH + \"/masks/\"\n",
    "img_ids = next(os.walk(img_path))[2]\n",
    "\n",
    "for n, id_ in tqdm_notebook(enumerate(img_ids), total=len(img_ids)):\n",
    "    img = imread(img_path + \"/\"+ id_)\n",
    "    if len(img.shape) == 2:\n",
    "        print(id_, img.shape)\n",
    "        if Path(img_path+id_).exists:\n",
    "            os.remove(img_path+id_)\n",
    "        \n",
    "        try:\n",
    "            if Path(mask_path+id_).exists: \n",
    "                os.remove(mask_path+id_[:-4]+'.png')\n",
    "        except FileNotFoundError as v:\n",
    "                    print(v)"
   ]
  },
  {
   "cell_type": "code",
   "execution_count": null,
   "metadata": {},
   "outputs": [],
   "source": []
  }
 ],
 "metadata": {
  "kernelspec": {
   "display_name": "TensorFlow-GPU",
   "language": "python",
   "name": "tf-gpu"
  },
  "language_info": {
   "codemirror_mode": {
    "name": "ipython",
    "version": 3
   },
   "file_extension": ".py",
   "mimetype": "text/x-python",
   "name": "python",
   "nbconvert_exporter": "python",
   "pygments_lexer": "ipython3",
   "version": "3.6.6"
  }
 },
 "nbformat": 4,
 "nbformat_minor": 2
}
