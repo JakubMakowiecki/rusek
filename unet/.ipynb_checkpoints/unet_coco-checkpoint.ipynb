{
 "cells": [
  {
   "cell_type": "code",
   "execution_count": 1,
   "metadata": {},
   "outputs": [
    {
     "name": "stderr",
     "output_type": "stream",
     "text": [
      "Using TensorFlow backend.\n"
     ]
    }
   ],
   "source": [
    "import os\n",
    "import sys\n",
    "import random\n",
    "import warnings\n",
    "\n",
    "import numpy as np\n",
    "import pandas as pd\n",
    "\n",
    "import matplotlib.pyplot as plt\n",
    "\n",
    "from tqdm import tqdm, tqdm_notebook\n",
    "from itertools import chain\n",
    "from skimage.io import imread, imshow, imread_collection, concatenate_images\n",
    "from skimage.transform import resize\n",
    "from skimage.morphology import label\n",
    "\n",
    "from keras.models import Model, load_model\n",
    "from keras.layers import Input\n",
    "from keras.layers.core import Dropout, Lambda\n",
    "from keras.layers.convolutional import Conv2D, Conv2DTranspose\n",
    "from keras.layers.pooling import MaxPooling2D\n",
    "from keras.layers.merge import concatenate\n",
    "from keras.callbacks import EarlyStopping, ModelCheckpoint\n",
    "from keras import backend as K\n",
    "\n",
    "import os\n",
    "import tensorflow as tf\n",
    "\n",
    "from pathlib import Path\n",
    "\n",
    "# Set some parameters\n",
    "IMG_WIDTH = 128\n",
    "IMG_HEIGHT = 128\n",
    "IMG_CHANNELS = 3\n",
    "TRAIN_PATH = '../../coco_persons/'\n",
    "TEST_PATH = '../../PennFudanPed/TEST/'\n",
    "MASK_PATH  = 'masks'\n",
    "\n",
    "IMAGE_PATH = 'images'\n",
    "warnings.filterwarnings('ignore', category=UserWarning, module='skimage')\n",
    "seed = 42\n",
    "random.seed = seed\n",
    "np.random.seed = seed\n",
    "\n"
   ]
  },
  {
   "cell_type": "code",
   "execution_count": 9,
   "metadata": {},
   "outputs": [],
   "source": [
    "# Define IoU metric\n",
    "def mean_iou(y_true, y_pred):\n",
    "    prec = []\n",
    "    for t in np.arange(0.5, 1.0, 0.05):\n",
    "        y_pred_ = tf.to_int32(y_pred > t)\n",
    "        score, up_opt = tf.metrics.mean_iou(y_true, y_pred_, 2)\n",
    "        K.get_session().run(tf.local_variables_initializer())\n",
    "        with tf.control_dependencies([up_opt]):\n",
    "            score = tf.identity(score)\n",
    "        prec.append(score)\n",
    "    return K.mean(K.stack(prec), axis=0)"
   ]
  },
  {
   "cell_type": "code",
   "execution_count": 2,
   "metadata": {},
   "outputs": [
    {
     "name": "stdout",
     "output_type": "stream",
     "text": [
      "Getting and resizing train images and masks ... \n"
     ]
    },
    {
     "data": {
      "application/vnd.jupyter.widget-view+json": {
       "model_id": "4baba373436e4db58f230cde3c64729d",
       "version_major": 2,
       "version_minor": 0
      },
      "text/plain": [
       "HBox(children=(IntProgress(value=0, max=63935), HTML(value='')))"
      ]
     },
     "metadata": {},
     "output_type": "display_data"
    },
    {
     "name": "stdout",
     "output_type": "stream",
     "text": [
      "\n"
     ]
    }
   ],
   "source": [
    "train_img_ids = next(os.walk(TRAIN_PATH + IMAGE_PATH))[2]\n",
    "\n",
    "train_mask_ids = next(os.walk(TRAIN_PATH + MASK_PATH))[2]\n",
    "\n",
    "test_img_ids = next(os.walk(TEST_PATH + 'PNGImages'))[2]\n",
    "\n",
    "# Get and resize train images and masks\n",
    "X_train = np.zeros((len(train_img_ids), IMG_HEIGHT, IMG_WIDTH, IMG_CHANNELS), dtype=np.uint8)\n",
    "Y_train = np.zeros((len(train_img_ids), IMG_HEIGHT, IMG_WIDTH, 1), dtype=np.bool)\n",
    "print('Getting and resizing train images and masks ... ')\n",
    "sys.stdout.flush()\n",
    "\n",
    "for n, id_ in tqdm_notebook(enumerate(train_img_ids), total=len(train_img_ids)):\n",
    "    path = TRAIN_PATH + IMAGE_PATH + \"/\"\n",
    "    path_masks = TRAIN_PATH + MASK_PATH + \"/\"\n",
    "    if Path(path+id_).exists and Path(path_masks + id_).exists:\n",
    "        try:\n",
    "            img = imread(path+id_)[:,::IMG_CHANNELS]\n",
    "        except IndexError as e:\n",
    "            print(e)\n",
    "            if Path(path+id_).exists:\n",
    "                os.remove(path+id_)\n",
    "\n",
    "            if Path(path_masks + id_).exists:    \n",
    "                os.remove(path_masks+id_)\n",
    "            continue\n",
    "\n",
    "        img = resize(img, (IMG_HEIGHT, IMG_WIDTH), mode='constant', preserve_range=True)\n",
    "        try:\n",
    "            X_train[n] = img\n",
    "        except ValueError as v:\n",
    "            print(v)\n",
    "            if Path(path+id_).exists:\n",
    "                os.remove(path+id_)\n",
    "            if Path(path_masks + id_).exists: \n",
    "                os.remove(path_masks+id_)\n",
    "            continue\n",
    "        mask = np.zeros((IMG_HEIGHT, IMG_WIDTH, 1), dtype=np.bool)\n",
    "\n",
    "\n",
    "\n",
    "        path = TRAIN_PATH + MASK_PATH + \"/\"\n",
    "        mask_ = imread(path+id_[:-4]+'.png')\n",
    "\n",
    "        mask_ = np.expand_dims(resize(mask_, (IMG_HEIGHT, IMG_WIDTH), mode='constant', \n",
    "                                          preserve_range=True), axis=-1)\n",
    "        mask = np.maximum(mask, mask_)\n",
    "        #print(np.unique(mask))\n",
    "        mask = np.where(mask<0.0001, 0, 1)\n",
    "        Y_train[n] = mask"
   ]
  },
  {
   "cell_type": "code",
   "execution_count": 3,
   "metadata": {},
   "outputs": [
    {
     "name": "stdout",
     "output_type": "stream",
     "text": [
      "16\n",
      "Getting and resizing test images ... \n"
     ]
    },
    {
     "name": "stderr",
     "output_type": "stream",
     "text": [
      "100%|██████████| 16/16 [00:00<00:00, 104.96it/s]"
     ]
    },
    {
     "name": "stdout",
     "output_type": "stream",
     "text": [
      "Done!\n"
     ]
    },
    {
     "name": "stderr",
     "output_type": "stream",
     "text": [
      "\n"
     ]
    }
   ],
   "source": [
    "# Get and resize test images\n",
    "X_test = np.zeros((len(test_img_ids), IMG_HEIGHT, IMG_WIDTH, IMG_CHANNELS), dtype=np.uint8)\n",
    "sizes_test = []\n",
    "print(len(test_img_ids))\n",
    "print('Getting and resizing test images ... ')\n",
    "sys.stdout.flush()\n",
    "for n, id_ in tqdm(enumerate(test_img_ids), total=len(test_img_ids)):\n",
    "    path = TEST_PATH + 'PNGImages' + '/' + id_\n",
    "    img = imread(path)[:,:,:IMG_CHANNELS]\n",
    "    sizes_test.append([img.shape[0], img.shape[1]])\n",
    "    img = resize(img, (IMG_HEIGHT, IMG_WIDTH), mode='constant', preserve_range=True)\n",
    "    X_test[n] = img\n",
    "\n",
    "print('Done!')"
   ]
  },
  {
   "cell_type": "code",
   "execution_count": 8,
   "metadata": {},
   "outputs": [
    {
     "data": {
      "image/png": "[encoded data removed]",
      "text/plain": [
       "<Figure size 432x288 with 1 Axes>"
      ]
     },
     "metadata": {
      "needs_background": "light"
     },
     "output_type": "display_data"
    },
    {
     "data": {
      "image/png": "[encoded data removed]",
      "text/plain": [
       "<Figure size 432x288 with 1 Axes>"
      ]
     },
     "metadata": {
      "needs_background": "light"
     },
     "output_type": "display_data"
    }
   ],
   "source": [
    "# Check if training data looks all right\n",
    "ix = random.randint(0, len(train_img_ids))\n",
    "imshow(X_train[ix])\n",
    "plt.show()\n",
    "imshow(np.squeeze(Y_train[ix]))\n",
    "plt.show()"
   ]
  },
  {
   "cell_type": "code",
   "execution_count": 15,
   "metadata": {},
   "outputs": [
    {
     "name": "stdout",
     "output_type": "stream",
     "text": [
      "__________________________________________________________________________________________________\n",
      "Layer (type)                    Output Shape         Param #     Connected to                     \n",
      "==================================================================================================\n",
      "input_4 (InputLayer)            (None, 128, 128, 3)  0                                            \n",
      "__________________________________________________________________________________________________\n",
      "lambda_4 (Lambda)               (None, 128, 128, 3)  0           input_4[0][0]                    \n",
      "__________________________________________________________________________________________________\n",
      "conv2d_56 (Conv2D)              (None, 128, 128, 16) 448         lambda_4[0][0]                   \n",
      "__________________________________________________________________________________________________\n",
      "dropout_28 (Dropout)            (None, 128, 128, 16) 0           conv2d_56[0][0]                  \n",
      "__________________________________________________________________________________________________\n",
      "c1 (Conv2D)                     (None, 128, 128, 16) 2320        dropout_28[0][0]                 \n",
      "__________________________________________________________________________________________________\n",
      "max_pooling2d_13 (MaxPooling2D) (None, 64, 64, 16)   0           c1[0][0]                         \n",
      "__________________________________________________________________________________________________\n",
      "c2 (Conv2D)                     (None, 64, 64, 32)   4640        max_pooling2d_13[0][0]           \n",
      "__________________________________________________________________________________________________\n",
      "dropout_29 (Dropout)            (None, 64, 64, 32)   0           c2[0][0]                         \n",
      "__________________________________________________________________________________________________\n",
      "conv2d_57 (Conv2D)              (None, 64, 64, 32)   9248        dropout_29[0][0]                 \n",
      "__________________________________________________________________________________________________\n",
      "max_pooling2d_14 (MaxPooling2D) (None, 32, 32, 32)   0           conv2d_57[0][0]                  \n",
      "__________________________________________________________________________________________________\n",
      "conv2d_58 (Conv2D)              (None, 32, 32, 64)   18496       max_pooling2d_14[0][0]           \n",
      "__________________________________________________________________________________________________\n",
      "dropout_30 (Dropout)            (None, 32, 32, 64)   0           conv2d_58[0][0]                  \n",
      "__________________________________________________________________________________________________\n",
      "c3 (Conv2D)                     (None, 32, 32, 64)   36928       dropout_30[0][0]                 \n",
      "__________________________________________________________________________________________________\n",
      "max_pooling2d_15 (MaxPooling2D) (None, 16, 16, 64)   0           c3[0][0]                         \n",
      "__________________________________________________________________________________________________\n",
      "conv2d_59 (Conv2D)              (None, 16, 16, 128)  73856       max_pooling2d_15[0][0]           \n",
      "__________________________________________________________________________________________________\n",
      "dropout_31 (Dropout)            (None, 16, 16, 128)  0           conv2d_59[0][0]                  \n",
      "__________________________________________________________________________________________________\n",
      "c4 (Conv2D)                     (None, 16, 16, 128)  147584      dropout_31[0][0]                 \n",
      "__________________________________________________________________________________________________\n",
      "max_pooling2d_16 (MaxPooling2D) (None, 8, 8, 128)    0           c4[0][0]                         \n",
      "__________________________________________________________________________________________________\n",
      "conv2d_60 (Conv2D)              (None, 8, 8, 256)    295168      max_pooling2d_16[0][0]           \n",
      "__________________________________________________________________________________________________\n",
      "dropout_32 (Dropout)            (None, 8, 8, 256)    0           conv2d_60[0][0]                  \n",
      "__________________________________________________________________________________________________\n",
      "c5 (Conv2D)                     (None, 8, 8, 256)    590080      dropout_32[0][0]                 \n",
      "__________________________________________________________________________________________________\n",
      "u6 (Conv2DTranspose)            (None, 16, 16, 128)  131200      c5[0][0]                         \n",
      "__________________________________________________________________________________________________\n",
      "concatenate_13 (Concatenate)    (None, 16, 16, 256)  0           u6[0][0]                         \n",
      "                                                                 c4[0][0]                         \n",
      "__________________________________________________________________________________________________\n",
      "conv2d_61 (Conv2D)              (None, 16, 16, 128)  295040      concatenate_13[0][0]             \n",
      "__________________________________________________________________________________________________\n",
      "dropout_33 (Dropout)            (None, 16, 16, 128)  0           conv2d_61[0][0]                  \n",
      "__________________________________________________________________________________________________\n",
      "c6 (Conv2D)                     (None, 16, 16, 128)  147584      dropout_33[0][0]                 \n",
      "__________________________________________________________________________________________________\n",
      "conv2d_transpose_13 (Conv2DTran (None, 32, 32, 64)   32832       c6[0][0]                         \n",
      "__________________________________________________________________________________________________\n",
      "concatenate_14 (Concatenate)    (None, 32, 32, 128)  0           conv2d_transpose_13[0][0]        \n",
      "                                                                 c3[0][0]                         \n",
      "__________________________________________________________________________________________________\n",
      "c7 (Conv2D)                     (None, 32, 32, 64)   73792       concatenate_14[0][0]             \n",
      "__________________________________________________________________________________________________\n",
      "dropout_34 (Dropout)            (None, 32, 32, 64)   0           c7[0][0]                         \n",
      "__________________________________________________________________________________________________\n",
      "conv2d_62 (Conv2D)              (None, 32, 32, 64)   36928       dropout_34[0][0]                 \n",
      "__________________________________________________________________________________________________\n",
      "u8 (Conv2DTranspose)            (None, 64, 64, 32)   8224        conv2d_62[0][0]                  \n",
      "__________________________________________________________________________________________________\n",
      "concatenate_15 (Concatenate)    (None, 64, 64, 64)   0           u8[0][0]                         \n",
      "                                                                 conv2d_57[0][0]                  \n",
      "__________________________________________________________________________________________________\n",
      "c8 (Conv2D)                     (None, 64, 64, 32)   18464       concatenate_15[0][0]             \n",
      "__________________________________________________________________________________________________\n",
      "dropout_35 (Dropout)            (None, 64, 64, 32)   0           c8[0][0]                         \n",
      "__________________________________________________________________________________________________\n",
      "conv2d_63 (Conv2D)              (None, 64, 64, 32)   9248        dropout_35[0][0]                 \n",
      "__________________________________________________________________________________________________\n",
      "u9 (Conv2DTranspose)            (None, 128, 128, 16) 2064        conv2d_63[0][0]                  \n",
      "__________________________________________________________________________________________________\n",
      "concatenate_16 (Concatenate)    (None, 128, 128, 32) 0           u9[0][0]                         \n",
      "                                                                 c1[0][0]                         \n",
      "__________________________________________________________________________________________________\n",
      "c9 (Conv2D)                     (None, 128, 128, 16) 4624        concatenate_16[0][0]             \n",
      "__________________________________________________________________________________________________\n",
      "dropout_36 (Dropout)            (None, 128, 128, 16) 0           c9[0][0]                         \n",
      "__________________________________________________________________________________________________\n",
      "conv2d_64 (Conv2D)              (None, 128, 128, 16) 2320        dropout_36[0][0]                 \n",
      "__________________________________________________________________________________________________\n",
      "conv2d_65 (Conv2D)              (None, 128, 128, 1)  17          conv2d_64[0][0]                  \n",
      "==================================================================================================\n",
      "Total params: 1,941,105\n",
      "Trainable params: 1,941,105\n",
      "Non-trainable params: 0\n",
      "__________________________________________________________________________________________________\n"
     ]
    }
   ],
   "source": [
    "# Build U-Net model\n",
    "inputs = Input((IMG_HEIGHT, IMG_WIDTH, IMG_CHANNELS))\n",
    "s = Lambda(lambda x: x / 255) (inputs)\n",
    "\n",
    "c1 = Conv2D(16, (3, 3), activation='elu', kernel_initializer='he_normal', padding='same') (s)\n",
    "c1 = Dropout(0.1) (c1)\n",
    "c1 = Conv2D(16, (3, 3), activation='elu', kernel_initializer='he_normal', padding='same', name=\"c1\") (c1)\n",
    "p1 = MaxPooling2D((2, 2)) (c1)\n",
    "\n",
    "c2 = Conv2D(32, (3, 3), activation='elu', kernel_initializer='he_normal', padding='same', name=\"c2\") (p1)\n",
    "c2 = Dropout(0.1) (c2)\n",
    "c2 = Conv2D(32, (3, 3), activation='elu', kernel_initializer='he_normal', padding='same') (c2)\n",
    "p2 = MaxPooling2D((2, 2)) (c2)\n",
    "\n",
    "c3 = Conv2D(64, (3, 3), activation='elu', kernel_initializer='he_normal', padding='same') (p2)\n",
    "c3 = Dropout(0.2) (c3)\n",
    "c3 = Conv2D(64, (3, 3), activation='elu', kernel_initializer='he_normal', padding='same', name=\"c3\") (c3)\n",
    "p3 = MaxPooling2D((2, 2)) (c3)\n",
    "\n",
    "c4 = Conv2D(128, (3, 3), activation='elu', kernel_initializer='he_normal', padding='same') (p3)\n",
    "c4 = Dropout(0.2) (c4)\n",
    "c4 = Conv2D(128, (3, 3), activation='elu', kernel_initializer='he_normal', padding='same', name=\"c4\") (c4)\n",
    "p4 = MaxPooling2D(pool_size=(2, 2)) (c4)\n",
    "\n",
    "c5 = Conv2D(256, (3, 3), activation='elu', kernel_initializer='he_normal', padding='same') (p4)\n",
    "c5 = Dropout(0.3) (c5)\n",
    "c5 = Conv2D(256, (3, 3), activation='elu', kernel_initializer='he_normal', padding='same', name=\"c5\") (c5)\n",
    "\n",
    "u6 = Conv2DTranspose(128, (2, 2), strides=(2, 2), padding='same', name=\"u6\") (c5)\n",
    "u6 = concatenate([u6, c4])\n",
    "c6 = Conv2D(128, (3, 3), activation='elu', kernel_initializer='he_normal', padding='same') (u6)\n",
    "c6 = Dropout(0.2) (c6)\n",
    "c6 = Conv2D(128, (3, 3), activation='elu', kernel_initializer='he_normal', padding='same', name=\"c6\") (c6)\n",
    "\n",
    "u7 = Conv2DTranspose(64, (2, 2), strides=(2, 2), padding='same') (c6)\n",
    "u7 = concatenate([u7, c3])\n",
    "c7 = Conv2D(64, (3, 3), activation='elu', kernel_initializer='he_normal', padding='same', name=\"c7\") (u7)\n",
    "c7 = Dropout(0.2) (c7)\n",
    "c7 = Conv2D(64, (3, 3), activation='elu', kernel_initializer='he_normal', padding='same') (c7)\n",
    "\n",
    "u8 = Conv2DTranspose(32, (2, 2), strides=(2, 2), padding='same', name=\"u8\") (c7)\n",
    "u8 = concatenate([u8, c2])\n",
    "c8 = Conv2D(32, (3, 3), activation='elu', kernel_initializer='he_normal', padding='same', name=\"c8\") (u8)\n",
    "c8 = Dropout(0.1) (c8)\n",
    "c8 = Conv2D(32, (3, 3), activation='elu', kernel_initializer='he_normal', padding='same') (c8)\n",
    "\n",
    "u9 = Conv2DTranspose(16, (2, 2), strides=(2, 2), padding='same', name=\"u9\") (c8)\n",
    "u9 = concatenate([u9, c1], axis=3)\n",
    "c9 = Conv2D(16, (3, 3), activation='elu', kernel_initializer='he_normal', padding='same', name=\"c9\") (u9)\n",
    "c9 = Dropout(0.1) (c9)\n",
    "c9 = Conv2D(16, (3, 3), activation='elu', kernel_initializer='he_normal', padding='same') (c9)\n",
    "\n",
    "outputs = Conv2D(1, (1, 1), activation='sigmoid') (c9)\n",
    "\n",
    "model = Model(inputs=[inputs], outputs=[outputs])\n",
    "model.compile(optimizer='adam', loss='binary_crossentropy', metrics=[mean_iou])\n",
    "model.summary()\n"
   ]
  },
  {
   "cell_type": "code",
   "execution_count": 16,
   "metadata": {},
   "outputs": [],
   "source": [
    "from keras.utils import plot_model\n",
    "plot_model(model, to_file='model.png')"
   ]
  },
  {
   "cell_type": "code",
   "execution_count": 18,
   "metadata": {},
   "outputs": [
    {
     "name": "stdout",
     "output_type": "stream",
     "text": [
      "Train on 57541 samples, validate on 6394 samples\n",
      "Epoch 1/50\n",
      "57541/57541 [==============================] - 122s 2ms/step - loss: 0.2951 - mean_iou: 0.4606 - val_loss: 0.2780 - val_mean_iou: 0.5056\n",
      "\n",
      "Epoch 00001: val_loss improved from inf to 0.27796, saving model to ../../modele/unet_on_coco.h5\n",
      "Epoch 2/50\n",
      "57541/57541 [==============================] - 122s 2ms/step - loss: 0.2336 - mean_iou: 0.5319 - val_loss: 0.2124 - val_mean_iou: 0.5506\n",
      "\n",
      "Epoch 00002: val_loss improved from 0.27796 to 0.21237, saving model to ../../modele/unet_on_coco.h5\n",
      "Epoch 3/50\n",
      "57541/57541 [==============================] - 122s 2ms/step - loss: 0.2105 - mean_iou: 0.5649 - val_loss: 0.1916 - val_mean_iou: 0.5781\n",
      "\n",
      "Epoch 00003: val_loss improved from 0.21237 to 0.19158, saving model to ../../modele/unet_on_coco.h5\n",
      "Epoch 4/50\n",
      "57541/57541 [==============================] - 121s 2ms/step - loss: 0.1970 - mean_iou: 0.5887 - val_loss: 0.1874 - val_mean_iou: 0.5978\n",
      "\n",
      "Epoch 00004: val_loss improved from 0.19158 to 0.18744, saving model to ../../modele/unet_on_coco.h5\n",
      "Epoch 5/50\n",
      "57541/57541 [==============================] - 122s 2ms/step - loss: 0.1882 - mean_iou: 0.6053 - val_loss: 0.1773 - val_mean_iou: 0.6121\n",
      "\n",
      "Epoch 00005: val_loss improved from 0.18744 to 0.17734, saving model to ../../modele/unet_on_coco.h5\n",
      "Epoch 6/50\n",
      "57541/57541 [==============================] - 123s 2ms/step - loss: 0.1817 - mean_iou: 0.6182 - val_loss: 0.1747 - val_mean_iou: 0.6237\n",
      "\n",
      "Epoch 00006: val_loss improved from 0.17734 to 0.17472, saving model to ../../modele/unet_on_coco.h5\n",
      "Epoch 7/50\n",
      "57541/57541 [==============================] - 123s 2ms/step - loss: 0.1769 - mean_iou: 0.6286 - val_loss: 0.1691 - val_mean_iou: 0.6332\n",
      "\n",
      "Epoch 00007: val_loss improved from 0.17472 to 0.16907, saving model to ../../modele/unet_on_coco.h5\n",
      "Epoch 8/50\n",
      "57541/57541 [==============================] - 123s 2ms/step - loss: 0.1723 - mean_iou: 0.6375 - val_loss: 0.1754 - val_mean_iou: 0.6415\n",
      "\n",
      "Epoch 00008: val_loss did not improve from 0.16907\n",
      "Epoch 9/50\n",
      "57541/57541 [==============================] - 121s 2ms/step - loss: 0.1692 - mean_iou: 0.6451 - val_loss: 0.1682 - val_mean_iou: 0.6483\n",
      "\n",
      "Epoch 00009: val_loss improved from 0.16907 to 0.16821, saving model to ../../modele/unet_on_coco.h5\n",
      "Epoch 10/50\n",
      "57541/57541 [==============================] - 122s 2ms/step - loss: 0.1658 - mean_iou: 0.6514 - val_loss: 0.1650 - val_mean_iou: 0.6543\n",
      "\n",
      "Epoch 00010: val_loss improved from 0.16821 to 0.16495, saving model to ../../modele/unet_on_coco.h5\n",
      "Epoch 11/50\n",
      "57541/57541 [==============================] - 121s 2ms/step - loss: 0.1640 - mean_iou: 0.6569 - val_loss: 0.1670 - val_mean_iou: 0.6594\n",
      "\n",
      "Epoch 00011: val_loss did not improve from 0.16495\n",
      "Epoch 12/50\n",
      "57541/57541 [==============================] - 121s 2ms/step - loss: 0.1612 - mean_iou: 0.6619 - val_loss: 0.1637 - val_mean_iou: 0.6643\n",
      "\n",
      "Epoch 00012: val_loss improved from 0.16495 to 0.16375, saving model to ../../modele/unet_on_coco.h5\n",
      "Epoch 13/50\n",
      "57541/57541 [==============================] - 120s 2ms/step - loss: 0.1596 - mean_iou: 0.6665 - val_loss: 0.1692 - val_mean_iou: 0.6683\n",
      "\n",
      "Epoch 00013: val_loss did not improve from 0.16375\n",
      "Epoch 14/50\n",
      "57541/57541 [==============================] - 123s 2ms/step - loss: 0.1573 - mean_iou: 0.6700 - val_loss: 0.1641 - val_mean_iou: 0.6719\n",
      "\n",
      "Epoch 00014: val_loss did not improve from 0.16375\n",
      "Epoch 15/50\n",
      "57541/57541 [==============================] - 124s 2ms/step - loss: 0.1552 - mean_iou: 0.6738 - val_loss: 0.1621 - val_mean_iou: 0.6755\n",
      "\n",
      "Epoch 00015: val_loss improved from 0.16375 to 0.16210, saving model to ../../modele/unet_on_coco.h5\n",
      "Epoch 16/50\n",
      "57541/57541 [==============================] - 125s 2ms/step - loss: 0.1541 - mean_iou: 0.6773 - val_loss: 0.1601 - val_mean_iou: 0.6787\n",
      "\n",
      "Epoch 00016: val_loss improved from 0.16210 to 0.16014, saving model to ../../modele/unet_on_coco.h5\n",
      "Epoch 17/50\n",
      "57541/57541 [==============================] - 124s 2ms/step - loss: 0.1527 - mean_iou: 0.6802 - val_loss: 0.1621 - val_mean_iou: 0.6817\n",
      "\n",
      "Epoch 00017: val_loss did not improve from 0.16014\n",
      "Epoch 18/50\n",
      "57541/57541 [==============================] - 122s 2ms/step - loss: 0.1513 - mean_iou: 0.6832 - val_loss: 0.1601 - val_mean_iou: 0.6845\n",
      "\n",
      "Epoch 00018: val_loss improved from 0.16014 to 0.16013, saving model to ../../modele/unet_on_coco.h5\n",
      "Epoch 19/50\n",
      "57541/57541 [==============================] - 124s 2ms/step - loss: 0.1501 - mean_iou: 0.6859 - val_loss: 0.1571 - val_mean_iou: 0.6872\n",
      "\n",
      "Epoch 00019: val_loss improved from 0.16013 to 0.15707, saving model to ../../modele/unet_on_coco.h5\n",
      "Epoch 20/50\n",
      "57541/57541 [==============================] - 125s 2ms/step - loss: 0.1492 - mean_iou: 0.6884 - val_loss: 0.1584 - val_mean_iou: 0.6896\n",
      "\n",
      "Epoch 00020: val_loss did not improve from 0.15707\n",
      "Epoch 21/50\n",
      "57541/57541 [==============================] - 131s 2ms/step - loss: 0.1479 - mean_iou: 0.6908 - val_loss: 0.1556 - val_mean_iou: 0.6919\n",
      "\n",
      "Epoch 00021: val_loss improved from 0.15707 to 0.15560, saving model to ../../modele/unet_on_coco.h5\n",
      "Epoch 22/50\n",
      "57541/57541 [==============================] - 130s 2ms/step - loss: 0.1464 - mean_iou: 0.6930 - val_loss: 0.1575 - val_mean_iou: 0.6941\n",
      "\n",
      "Epoch 00022: val_loss did not improve from 0.15560\n",
      "Epoch 23/50\n",
      "57541/57541 [==============================] - 129s 2ms/step - loss: 0.1458 - mean_iou: 0.6952 - val_loss: 0.1622 - val_mean_iou: 0.6962\n",
      "\n",
      "Epoch 00023: val_loss did not improve from 0.15560\n",
      "Epoch 24/50\n",
      "57541/57541 [==============================] - 125s 2ms/step - loss: 0.1447 - mean_iou: 0.6971 - val_loss: 0.1574 - val_mean_iou: 0.6981\n",
      "\n",
      "Epoch 00024: val_loss did not improve from 0.15560\n",
      "Epoch 25/50\n",
      "57541/57541 [==============================] - 121s 2ms/step - loss: 0.1442 - mean_iou: 0.6991 - val_loss: 0.1588 - val_mean_iou: 0.7000\n",
      "\n",
      "Epoch 00025: val_loss did not improve from 0.15560\n",
      "Epoch 26/50\n",
      "57541/57541 [==============================] - 123s 2ms/step - loss: 0.1431 - mean_iou: 0.7009 - val_loss: 0.1614 - val_mean_iou: 0.7017\n",
      "\n",
      "Epoch 00026: val_loss did not improve from 0.15560\n",
      "Epoch 00026: early stopping\n"
     ]
    }
   ],
   "source": [
    "# Fit model\n",
    "earlystopper = EarlyStopping(patience=5, verbose=1)\n",
    "checkpointer = ModelCheckpoint('../../modele/unet_on_coco.h5', verbose=1, save_best_only=True)\n",
    "results = model.fit(X_train, Y_train, validation_split=0.1, batch_size=16, epochs=50, \n",
    "                    callbacks=[earlystopper, checkpointer])"
   ]
  },
  {
   "cell_type": "code",
   "execution_count": 19,
   "metadata": {},
   "outputs": [
    {
     "ename": "SyntaxError",
     "evalue": "unexpected EOF while parsing (<ipython-input-19-16afc0f92081>, line 18)",
     "output_type": "error",
     "traceback": [
      "\u001b[0;36m  File \u001b[0;32m\"<ipython-input-19-16afc0f92081>\"\u001b[0;36m, line \u001b[0;32m18\u001b[0m\n\u001b[0;31m    (sizes_test[i][0], sizes_test[i][1]),\u001b[0m\n\u001b[0m                                          ^\u001b[0m\n\u001b[0;31mSyntaxError\u001b[0m\u001b[0;31m:\u001b[0m unexpected EOF while parsing\n"
     ]
    }
   ],
   "source": [
    "\n",
    "\n",
    "# Predict on train, val and test\n",
    "model = load_model('../../modele/unet_on_coco.h5', custom_objects={'mean_iou': mean_iou})\n",
    "preds_train = model.predict(X_train[:int(X_train.shape[0]*0.9)], verbose=1)\n",
    "preds_val = model.predict(X_train[int(X_train.shape[0]*0.9):], verbose=1)\n",
    "preds_test = model.predict(X_test, verbose=1)\n",
    "\n",
    "# Threshold predictions\n",
    "preds_train_t = (preds_train > 0.5).astype(np.uint8)\n",
    "preds_val_t = (preds_val > 0.5).astype(np.uint8)\n",
    "preds_test_t = (preds_test > 0.5).astype(np.uint8)\n",
    "\n",
    "# Create list of upsampled test masks\n",
    "preds_test_upsampled = []\n",
    "for i in range(len(preds_test)):\n",
    "    preds_test_upsampled.append(resize(np.squeeze(preds_test[i]), \n",
    "                                       (sizes_test[i][0], sizes_test[i][1]), "
   ]
  },
  {
   "cell_type": "code",
   "execution_count": null,
   "metadata": {},
   "outputs": [],
   "source": [
    "# Perform a sanity check on some random training samples\n",
    "ix = random.randint(0, len(preds_train_t))\n",
    "imshow(X_train[ix])\n",
    "plt.show()\n",
    "imshow(np.squeeze(Y_train[ix]))\n",
    "plt.show()\n",
    "imshow(np.squeeze(preds_train_t[ix]))\n",
    "plt.show()"
   ]
  },
  {
   "cell_type": "code",
   "execution_count": null,
   "metadata": {},
   "outputs": [],
   "source": [
    "# Perform a sanity check on some random validation samples\n",
    "ix = random.randint(0, len(preds_val_t))\n",
    "imshow(X_train[int(X_train.shape[0]*0.9):][ix])\n",
    "plt.show()\n",
    "imshow(np.squeeze(Y_train[int(Y_train.shape[0]*0.9):][ix]))\n",
    "plt.show()\n",
    "imshow(np.squeeze(preds_val_t[ix]))\n",
    "plt.show()"
   ]
  },
  {
   "cell_type": "code",
   "execution_count": null,
   "metadata": {},
   "outputs": [],
   "source": [
    "# Perform a sanity check on some random validation samples\n",
    "print(len(preds_test_t))\n",
    "ix = random.randint(0, len(preds_test_t)-1)\n",
    "print(X_train.shape[0])\n",
    "print(X_test.shape[0])\n",
    "print(int(X_test.shape[0]*0.9))\n",
    "print(ix)\n",
    "imshow(X_test[ix])\n",
    "plt.show()\n",
    "imshow(np.squeeze(preds_test_t[ix]))\n",
    "plt.show()"
   ]
  },
  {
   "cell_type": "code",
   "execution_count": null,
   "metadata": {},
   "outputs": [],
   "source": []
  }
 ],
 "metadata": {
  "kernelspec": {
   "display_name": "TensorFlow-GPU",
   "language": "python",
   "name": "tf-gpu"
  },
  "language_info": {
   "codemirror_mode": {
    "name": "ipython",
    "version": 3
   },
   "file_extension": ".py",
   "mimetype": "text/x-python",
   "name": "python",
   "nbconvert_exporter": "python",
   "pygments_lexer": "ipython3",
   "version": "3.6.6"
  }
 },
 "nbformat": 4,
 "nbformat_minor": 2
}
