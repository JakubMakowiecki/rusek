{
 "cells": [
  {
   "cell_type": "code",
   "execution_count": 1,
   "metadata": {},
   "outputs": [
    {
     "name": "stderr",
     "output_type": "stream",
     "text": [
      "Using TensorFlow backend.\n"
     ]
    }
   ],
   "source": [
    "import os\n",
    "import sys\n",
    "import random\n",
    "import warnings\n",
    "\n",
    "import numpy as np\n",
    "import pandas as pd\n",
    "\n",
    "import matplotlib.pyplot as plt\n",
    "\n",
    "from tqdm import tqdm, tqdm_notebook\n",
    "from itertools import chain\n",
    "from skimage.io import imread, imshow, imread_collection, concatenate_images\n",
    "from skimage.transform import resize\n",
    "from skimage.morphology import label\n",
    "\n",
    "from keras.models import Model, load_model\n",
    "from keras.layers import Input\n",
    "from keras.layers.core import Dropout, Lambda\n",
    "from keras.layers.convolutional import Conv2D, Conv2DTranspose\n",
    "from keras.layers.pooling import MaxPooling2D\n",
    "from keras.layers.merge import concatenate\n",
    "from keras.callbacks import EarlyStopping, ModelCheckpoint\n",
    "from keras import backend as K\n",
    "\n",
    "import os\n",
    "import tensorflow as tf\n",
    "\n",
    "from pathlib import Path\n",
    "\n",
    "# Set some parameters\n",
    "IMG_WIDTH = 128\n",
    "IMG_HEIGHT = 128\n",
    "IMG_CHANNELS = 3\n",
    "\n",
    "warnings.filterwarnings('ignore', category=UserWarning, module='skimage')\n",
    "seed = 42\n",
    "random.seed = seed\n",
    "np.random.seed = seed\n",
    "TEST_PATH = '../../PennFudanPed/TEST/'"
   ]
  },
  {
   "cell_type": "code",
   "execution_count": 2,
   "metadata": {},
   "outputs": [],
   "source": [
    "test_img_ids = next(os.walk(TEST_PATH + 'PNGImages'))[2]"
   ]
  },
  {
   "cell_type": "code",
   "execution_count": 3,
   "metadata": {},
   "outputs": [],
   "source": [
    "coco_img_path = '../../coco_persons/' + 'images'\n",
    "train_coco_img_ids = next(os.walk(coco_img_path))[2]\n",
    "\n",
    "coco_mask_path = '../../coco_persons/' + 'masks'\n",
    "train_coco_mask_ids = next(os.walk(coco_mask_path))[2]"
   ]
  },
  {
   "cell_type": "code",
   "execution_count": 4,
   "metadata": {},
   "outputs": [],
   "source": [
    "# Define IoU metric\n",
    "def mean_iou(y_true, y_pred):\n",
    "    prec = []\n",
    "    for t in np.arange(0.5, 1.0, 0.05):\n",
    "        y_pred_ = tf.to_int32(y_pred > t)\n",
    "        score, up_opt = tf.metrics.mean_iou(y_true, y_pred_, 2)\n",
    "        K.get_session().run(tf.local_variables_initializer())\n",
    "        with tf.control_dependencies([up_opt]):\n",
    "            score = tf.identity(score)\n",
    "        prec.append(score)\n",
    "    return K.mean(K.stack(prec), axis=0)"
   ]
  },
  {
   "cell_type": "code",
   "execution_count": 5,
   "metadata": {},
   "outputs": [],
   "source": [
    "def load_coco_images(X_train, Y_train):\n",
    "    for n, id_ in tqdm_notebook(enumerate(train_coco_img_ids), total=len(train_coco_img_ids)):\n",
    "        path = coco_img_path + \"/\"\n",
    "        path_masks = coco_mask_path + \"/\"\n",
    "        if Path(path+id_).exists and Path(path_masks + id_).exists:\n",
    "            try:\n",
    "                img = imread(path+id_)[:,::IMG_CHANNELS]\n",
    "            except IndexError as e:\n",
    "                print(e)\n",
    "                if Path(path+id_).exists:\n",
    "                    os.remove(path+id_)\n",
    "\n",
    "                if Path(path_masks + id_).exists:    \n",
    "                    os.remove(path_masks+id_)\n",
    "                continue\n",
    "\n",
    "            img = resize(img, (IMG_HEIGHT, IMG_WIDTH), mode='constant', preserve_range=True)\n",
    "            try:\n",
    "                X_train[n] = img\n",
    "            except ValueError as v:\n",
    "                print(v)\n",
    "                if Path(path+id_).exists:\n",
    "                    os.remove(path+id_)\n",
    "                if Path(path_masks + id_).exists: \n",
    "                    os.remove(path_masks+id_)\n",
    "                continue\n",
    "            mask = np.zeros((IMG_HEIGHT, IMG_WIDTH, 1), dtype=np.bool)\n",
    "\n",
    "\n",
    "\n",
    "            path = coco_mask_path + \"/\"\n",
    "            mask_ = imread(path+id_[:-4]+'.png')\n",
    "\n",
    "            mask_ = np.expand_dims(resize(mask_, (IMG_HEIGHT, IMG_WIDTH), mode='constant', \n",
    "                                              preserve_range=True), axis=-1)\n",
    "            mask = np.maximum(mask, mask_)\n",
    "            #print(np.unique(mask))\n",
    "            mask = np.where(mask<0.0001, 0, 1)\n",
    "            Y_train[n] = mask"
   ]
  },
  {
   "cell_type": "code",
   "execution_count": 6,
   "metadata": {},
   "outputs": [],
   "source": [
    "penn_TRAIN_PATH = '../../PennFudanPed/TRAIN/'\n",
    "\n",
    "penn_IMAGE_PATH = 'PNGImages/LIP'\n",
    "\n",
    "penn_MASK_PATH  = 'PedMasks/LIP'\n",
    "\n",
    "penn_train_img_ids = next(os.walk(penn_TRAIN_PATH + penn_IMAGE_PATH))[2]\n",
    "\n",
    "penn_train_mask_ids = next(os.walk(penn_TRAIN_PATH + penn_MASK_PATH))[2]"
   ]
  },
  {
   "cell_type": "code",
   "execution_count": 7,
   "metadata": {},
   "outputs": [],
   "source": [
    "def load_penn_images(X_train, Y_train):\n",
    "    for n, id_ in tqdm(enumerate(penn_train_img_ids), total=len(penn_train_img_ids)):\n",
    "        path = penn_TRAIN_PATH + penn_IMAGE_PATH + \"/\"\n",
    "        try:\n",
    "            img = imread(path+id_)[:,::IMG_CHANNELS]\n",
    "\n",
    "        except IndexError as e:\n",
    "            print(e)\n",
    "            os.remove(path+id_)\n",
    "        img = np.flip(img, 1)\n",
    "        img = resize(img, (IMG_HEIGHT, IMG_WIDTH), mode='constant', preserve_range=True)\n",
    "        X_train[n] = img\n",
    "\n",
    "\n",
    "        mask = np.zeros((IMG_HEIGHT, IMG_WIDTH, 1), dtype=np.bool)\n",
    "\n",
    "\n",
    "\n",
    "        path = penn_TRAIN_PATH + penn_MASK_PATH + \"/\"\n",
    "        mask_ = imread(path+id_[:-4]+'.png')\n",
    "\n",
    "        mask_ = np.expand_dims(resize(mask_, (IMG_HEIGHT, IMG_WIDTH), mode='constant', \n",
    "                                          preserve_range=True), axis=-1)\n",
    "        mask = np.maximum(mask, mask_)\n",
    "        #print(np.unique(mask))\n",
    "        mask = np.where(mask<0.0001, 0, 1)\n",
    "        Y_train[n] = mask"
   ]
  },
  {
   "cell_type": "code",
   "execution_count": 8,
   "metadata": {},
   "outputs": [
    {
     "data": {
      "application/vnd.jupyter.widget-view+json": {
       "model_id": "5ec23fd1f2d54c3abccd9f65864122ee",
       "version_major": 2,
       "version_minor": 0
      },
      "text/plain": [
       "HBox(children=(IntProgress(value=0, max=63935), HTML(value='')))"
      ]
     },
     "metadata": {},
     "output_type": "display_data"
    },
    {
     "name": "stdout",
     "output_type": "stream",
     "text": [
      "\n"
     ]
    }
   ],
   "source": [
    "# Get and resize train images and masks\n",
    "X_train_coco = np.zeros((len(train_coco_img_ids), IMG_HEIGHT, IMG_WIDTH, IMG_CHANNELS), dtype=np.uint8)\n",
    "Y_train_coco = np.zeros((len(train_coco_img_ids), IMG_HEIGHT, IMG_WIDTH, 1), dtype=np.bool)\n",
    "load_coco_images(X_train_coco, Y_train_coco)"
   ]
  },
  {
   "cell_type": "code",
   "execution_count": 9,
   "metadata": {},
   "outputs": [
    {
     "name": "stderr",
     "output_type": "stream",
     "text": [
      "100%|██████████| 30393/30393 [02:26<00:00, 208.00it/s]\n"
     ]
    }
   ],
   "source": [
    "penn_X_train = np.zeros((len(penn_train_img_ids), IMG_HEIGHT, IMG_WIDTH, IMG_CHANNELS), dtype=np.uint8)\n",
    "penn_Y_train = np.zeros((len(penn_train_img_ids), IMG_HEIGHT, IMG_WIDTH, 1), dtype=np.bool)\n",
    "load_penn_images(penn_X_train, penn_Y_train)"
   ]
  },
  {
   "cell_type": "code",
   "execution_count": 10,
   "metadata": {},
   "outputs": [],
   "source": [
    "X_train = np.concatenate((X_train_coco, penn_X_train), axis=0)\n",
    "Y_train = np.concatenate((Y_train_coco, penn_Y_train), axis=0)"
   ]
  },
  {
   "cell_type": "code",
   "execution_count": 11,
   "metadata": {},
   "outputs": [
    {
     "name": "stdout",
     "output_type": "stream",
     "text": [
      "16\n",
      "Getting and resizing test images ... \n"
     ]
    },
    {
     "name": "stderr",
     "output_type": "stream",
     "text": [
      "100%|██████████| 16/16 [00:00<00:00, 114.49it/s]"
     ]
    },
    {
     "name": "stdout",
     "output_type": "stream",
     "text": [
      "Done!\n"
     ]
    },
    {
     "name": "stderr",
     "output_type": "stream",
     "text": [
      "\n"
     ]
    }
   ],
   "source": [
    "# Get and resize test images\n",
    "X_test = np.zeros((len(test_img_ids), IMG_HEIGHT, IMG_WIDTH, IMG_CHANNELS), dtype=np.uint8)\n",
    "sizes_test = []\n",
    "print(len(test_img_ids))\n",
    "print('Getting and resizing test images ... ')\n",
    "sys.stdout.flush()\n",
    "for n, id_ in tqdm(enumerate(test_img_ids), total=len(test_img_ids)):\n",
    "    path = TEST_PATH + 'PNGImages' + '/' + id_\n",
    "    img = imread(path)[:,:,:IMG_CHANNELS]\n",
    "    sizes_test.append([img.shape[0], img.shape[1]])\n",
    "    img = resize(img, (IMG_HEIGHT, IMG_WIDTH), mode='constant', preserve_range=True)\n",
    "    X_test[n] = img\n",
    "\n",
    "print('Done!')"
   ]
  },
  {
   "cell_type": "code",
   "execution_count": 12,
   "metadata": {},
   "outputs": [
    {
     "data": {
      "image/png": "[encoded data removed]",
      "text/plain": [
       "<Figure size 432x288 with 1 Axes>"
      ]
     },
     "metadata": {
      "needs_background": "light"
     },
     "output_type": "display_data"
    },
    {
     "data": {
      "image/png": "[encoded data removed]",
      "text/plain": [
       "<Figure size 432x288 with 1 Axes>"
      ]
     },
     "metadata": {
      "needs_background": "light"
     },
     "output_type": "display_data"
    }
   ],
   "source": [
    "# Check if training data looks all right\n",
    "ix = random.randint(0, len(train_coco_img_ids))\n",
    "imshow(X_train[ix])\n",
    "plt.show()\n",
    "imshow(np.squeeze(Y_train[ix]))\n",
    "plt.show()"
   ]
  },
  {
   "cell_type": "code",
   "execution_count": 13,
   "metadata": {},
   "outputs": [
    {
     "name": "stdout",
     "output_type": "stream",
     "text": [
      "__________________________________________________________________________________________________\n",
      "Layer (type)                    Output Shape         Param #     Connected to                     \n",
      "==================================================================================================\n",
      "input_1 (InputLayer)            (None, 128, 128, 3)  0                                            \n",
      "__________________________________________________________________________________________________\n",
      "lambda_1 (Lambda)               (None, 128, 128, 3)  0           input_1[0][0]                    \n",
      "__________________________________________________________________________________________________\n",
      "conv2d_1 (Conv2D)               (None, 128, 128, 16) 448         lambda_1[0][0]                   \n",
      "__________________________________________________________________________________________________\n",
      "dropout_1 (Dropout)             (None, 128, 128, 16) 0           conv2d_1[0][0]                   \n",
      "__________________________________________________________________________________________________\n",
      "c1 (Conv2D)                     (None, 128, 128, 16) 2320        dropout_1[0][0]                  \n",
      "__________________________________________________________________________________________________\n",
      "max_pooling2d_1 (MaxPooling2D)  (None, 64, 64, 16)   0           c1[0][0]                         \n",
      "__________________________________________________________________________________________________\n",
      "c2 (Conv2D)                     (None, 64, 64, 32)   4640        max_pooling2d_1[0][0]            \n",
      "__________________________________________________________________________________________________\n",
      "dropout_2 (Dropout)             (None, 64, 64, 32)   0           c2[0][0]                         \n",
      "__________________________________________________________________________________________________\n",
      "conv2d_2 (Conv2D)               (None, 64, 64, 32)   9248        dropout_2[0][0]                  \n",
      "__________________________________________________________________________________________________\n",
      "max_pooling2d_2 (MaxPooling2D)  (None, 32, 32, 32)   0           conv2d_2[0][0]                   \n",
      "__________________________________________________________________________________________________\n",
      "conv2d_3 (Conv2D)               (None, 32, 32, 64)   18496       max_pooling2d_2[0][0]            \n",
      "__________________________________________________________________________________________________\n",
      "dropout_3 (Dropout)             (None, 32, 32, 64)   0           conv2d_3[0][0]                   \n",
      "__________________________________________________________________________________________________\n",
      "c3 (Conv2D)                     (None, 32, 32, 64)   36928       dropout_3[0][0]                  \n",
      "__________________________________________________________________________________________________\n",
      "max_pooling2d_3 (MaxPooling2D)  (None, 16, 16, 64)   0           c3[0][0]                         \n",
      "__________________________________________________________________________________________________\n",
      "conv2d_4 (Conv2D)               (None, 16, 16, 128)  73856       max_pooling2d_3[0][0]            \n",
      "__________________________________________________________________________________________________\n",
      "dropout_4 (Dropout)             (None, 16, 16, 128)  0           conv2d_4[0][0]                   \n",
      "__________________________________________________________________________________________________\n",
      "c4 (Conv2D)                     (None, 16, 16, 128)  147584      dropout_4[0][0]                  \n",
      "__________________________________________________________________________________________________\n",
      "max_pooling2d_4 (MaxPooling2D)  (None, 8, 8, 128)    0           c4[0][0]                         \n",
      "__________________________________________________________________________________________________\n",
      "conv2d_5 (Conv2D)               (None, 8, 8, 256)    295168      max_pooling2d_4[0][0]            \n",
      "__________________________________________________________________________________________________\n",
      "dropout_5 (Dropout)             (None, 8, 8, 256)    0           conv2d_5[0][0]                   \n",
      "__________________________________________________________________________________________________\n",
      "c5 (Conv2D)                     (None, 8, 8, 256)    590080      dropout_5[0][0]                  \n",
      "__________________________________________________________________________________________________\n",
      "u6 (Conv2DTranspose)            (None, 16, 16, 128)  131200      c5[0][0]                         \n",
      "__________________________________________________________________________________________________\n",
      "concatenate_1 (Concatenate)     (None, 16, 16, 256)  0           u6[0][0]                         \n",
      "                                                                 c4[0][0]                         \n",
      "__________________________________________________________________________________________________\n",
      "conv2d_6 (Conv2D)               (None, 16, 16, 128)  295040      concatenate_1[0][0]              \n",
      "__________________________________________________________________________________________________\n",
      "dropout_6 (Dropout)             (None, 16, 16, 128)  0           conv2d_6[0][0]                   \n",
      "__________________________________________________________________________________________________\n",
      "c6 (Conv2D)                     (None, 16, 16, 128)  147584      dropout_6[0][0]                  \n",
      "__________________________________________________________________________________________________\n",
      "conv2d_transpose_1 (Conv2DTrans (None, 32, 32, 64)   32832       c6[0][0]                         \n",
      "__________________________________________________________________________________________________\n",
      "concatenate_2 (Concatenate)     (None, 32, 32, 128)  0           conv2d_transpose_1[0][0]         \n",
      "                                                                 c3[0][0]                         \n",
      "__________________________________________________________________________________________________\n",
      "c7 (Conv2D)                     (None, 32, 32, 64)   73792       concatenate_2[0][0]              \n",
      "__________________________________________________________________________________________________\n",
      "dropout_7 (Dropout)             (None, 32, 32, 64)   0           c7[0][0]                         \n",
      "__________________________________________________________________________________________________\n",
      "conv2d_7 (Conv2D)               (None, 32, 32, 64)   36928       dropout_7[0][0]                  \n",
      "__________________________________________________________________________________________________\n",
      "u8 (Conv2DTranspose)            (None, 64, 64, 32)   8224        conv2d_7[0][0]                   \n",
      "__________________________________________________________________________________________________\n",
      "concatenate_3 (Concatenate)     (None, 64, 64, 64)   0           u8[0][0]                         \n",
      "                                                                 conv2d_2[0][0]                   \n",
      "__________________________________________________________________________________________________\n",
      "c8 (Conv2D)                     (None, 64, 64, 32)   18464       concatenate_3[0][0]              \n",
      "__________________________________________________________________________________________________\n",
      "dropout_8 (Dropout)             (None, 64, 64, 32)   0           c8[0][0]                         \n",
      "__________________________________________________________________________________________________\n",
      "conv2d_8 (Conv2D)               (None, 64, 64, 32)   9248        dropout_8[0][0]                  \n",
      "__________________________________________________________________________________________________\n",
      "u9 (Conv2DTranspose)            (None, 128, 128, 16) 2064        conv2d_8[0][0]                   \n",
      "__________________________________________________________________________________________________\n",
      "concatenate_4 (Concatenate)     (None, 128, 128, 32) 0           u9[0][0]                         \n",
      "                                                                 c1[0][0]                         \n",
      "__________________________________________________________________________________________________\n",
      "c9 (Conv2D)                     (None, 128, 128, 16) 4624        concatenate_4[0][0]              \n",
      "__________________________________________________________________________________________________\n",
      "dropout_9 (Dropout)             (None, 128, 128, 16) 0           c9[0][0]                         \n",
      "__________________________________________________________________________________________________\n",
      "conv2d_9 (Conv2D)               (None, 128, 128, 16) 2320        dropout_9[0][0]                  \n",
      "__________________________________________________________________________________________________\n",
      "conv2d_10 (Conv2D)              (None, 128, 128, 1)  17          conv2d_9[0][0]                   \n",
      "==================================================================================================\n",
      "Total params: 1,941,105\n",
      "Trainable params: 1,941,105\n",
      "Non-trainable params: 0\n",
      "__________________________________________________________________________________________________\n"
     ]
    }
   ],
   "source": [
    "# Build U-Net model\n",
    "inputs = Input((IMG_HEIGHT, IMG_WIDTH, IMG_CHANNELS))\n",
    "s = Lambda(lambda x: x / 255) (inputs)\n",
    "\n",
    "c1 = Conv2D(16, (3, 3), activation='elu', kernel_initializer='he_normal', padding='same') (s)\n",
    "c1 = Dropout(0.1) (c1)\n",
    "c1 = Conv2D(16, (3, 3), activation='elu', kernel_initializer='he_normal', padding='same', name=\"c1\") (c1)\n",
    "p1 = MaxPooling2D((2, 2)) (c1)\n",
    "\n",
    "c2 = Conv2D(32, (3, 3), activation='elu', kernel_initializer='he_normal', padding='same', name=\"c2\") (p1)\n",
    "c2 = Dropout(0.1) (c2)\n",
    "c2 = Conv2D(32, (3, 3), activation='elu', kernel_initializer='he_normal', padding='same') (c2)\n",
    "p2 = MaxPooling2D((2, 2)) (c2)\n",
    "\n",
    "c3 = Conv2D(64, (3, 3), activation='elu', kernel_initializer='he_normal', padding='same') (p2)\n",
    "c3 = Dropout(0.2) (c3)\n",
    "c3 = Conv2D(64, (3, 3), activation='elu', kernel_initializer='he_normal', padding='same', name=\"c3\") (c3)\n",
    "p3 = MaxPooling2D((2, 2)) (c3)\n",
    "\n",
    "c4 = Conv2D(128, (3, 3), activation='elu', kernel_initializer='he_normal', padding='same') (p3)\n",
    "c4 = Dropout(0.2) (c4)\n",
    "c4 = Conv2D(128, (3, 3), activation='elu', kernel_initializer='he_normal', padding='same', name=\"c4\") (c4)\n",
    "p4 = MaxPooling2D(pool_size=(2, 2)) (c4)\n",
    "\n",
    "c5 = Conv2D(256, (3, 3), activation='elu', kernel_initializer='he_normal', padding='same') (p4)\n",
    "c5 = Dropout(0.3) (c5)\n",
    "c5 = Conv2D(256, (3, 3), activation='elu', kernel_initializer='he_normal', padding='same', name=\"c5\") (c5)\n",
    "\n",
    "u6 = Conv2DTranspose(128, (2, 2), strides=(2, 2), padding='same', name=\"u6\") (c5)\n",
    "u6 = concatenate([u6, c4])\n",
    "c6 = Conv2D(128, (3, 3), activation='elu', kernel_initializer='he_normal', padding='same') (u6)\n",
    "c6 = Dropout(0.2) (c6)\n",
    "c6 = Conv2D(128, (3, 3), activation='elu', kernel_initializer='he_normal', padding='same', name=\"c6\") (c6)\n",
    "\n",
    "u7 = Conv2DTranspose(64, (2, 2), strides=(2, 2), padding='same') (c6)\n",
    "u7 = concatenate([u7, c3])\n",
    "c7 = Conv2D(64, (3, 3), activation='elu', kernel_initializer='he_normal', padding='same', name=\"c7\") (u7)\n",
    "c7 = Dropout(0.2) (c7)\n",
    "c7 = Conv2D(64, (3, 3), activation='elu', kernel_initializer='he_normal', padding='same') (c7)\n",
    "\n",
    "u8 = Conv2DTranspose(32, (2, 2), strides=(2, 2), padding='same', name=\"u8\") (c7)\n",
    "u8 = concatenate([u8, c2])\n",
    "c8 = Conv2D(32, (3, 3), activation='elu', kernel_initializer='he_normal', padding='same', name=\"c8\") (u8)\n",
    "c8 = Dropout(0.1) (c8)\n",
    "c8 = Conv2D(32, (3, 3), activation='elu', kernel_initializer='he_normal', padding='same') (c8)\n",
    "\n",
    "u9 = Conv2DTranspose(16, (2, 2), strides=(2, 2), padding='same', name=\"u9\") (c8)\n",
    "u9 = concatenate([u9, c1], axis=3)\n",
    "c9 = Conv2D(16, (3, 3), activation='elu', kernel_initializer='he_normal', padding='same', name=\"c9\") (u9)\n",
    "c9 = Dropout(0.1) (c9)\n",
    "c9 = Conv2D(16, (3, 3), activation='elu', kernel_initializer='he_normal', padding='same') (c9)\n",
    "\n",
    "outputs = Conv2D(1, (1, 1), activation='sigmoid') (c9)\n",
    "\n",
    "model = Model(inputs=[inputs], outputs=[outputs])\n",
    "model.compile(optimizer='adam', loss='binary_crossentropy', metrics=[mean_iou])\n",
    "model.summary()\n"
   ]
  },
  {
   "cell_type": "code",
   "execution_count": 14,
   "metadata": {},
   "outputs": [],
   "source": [
    "model = load_model('../../modele/unet_on_coco.h5', custom_objects={'mean_iou': mean_iou})"
   ]
  },
  {
   "cell_type": "code",
   "execution_count": 15,
   "metadata": {},
   "outputs": [],
   "source": [
    "from keras.utils import plot_model\n",
    "plot_model(model, to_file='model.png')"
   ]
  },
  {
   "cell_type": "code",
   "execution_count": 16,
   "metadata": {},
   "outputs": [
    {
     "name": "stdout",
     "output_type": "stream",
     "text": [
      "Train on 84895 samples, validate on 9433 samples\n",
      "Epoch 1/50\n",
      "84895/84895 [==============================] - 265s 3ms/step - loss: 0.2407 - mean_iou: 0.6500 - val_loss: 0.4235 - val_mean_iou: 0.6514\n",
      "\n",
      "Epoch 00001: val_loss improved from inf to 0.42355, saving model to ../../modele/unet_on_coco.h5\n",
      "Epoch 2/50\n",
      "84895/84895 [==============================] - 257s 3ms/step - loss: 0.2341 - mean_iou: 0.6525 - val_loss: 0.4124 - val_mean_iou: 0.6518\n",
      "\n",
      "Epoch 00002: val_loss improved from 0.42355 to 0.41236, saving model to ../../modele/unet_on_coco.h5\n",
      "Epoch 3/50\n",
      "84895/84895 [==============================] - 258s 3ms/step - loss: 0.2313 - mean_iou: 0.6517 - val_loss: 0.4099 - val_mean_iou: 0.6539\n",
      "\n",
      "Epoch 00003: val_loss improved from 0.41236 to 0.40992, saving model to ../../modele/unet_on_coco.h5\n",
      "Epoch 4/50\n",
      "84895/84895 [==============================] - 258s 3ms/step - loss: 0.2287 - mean_iou: 0.6557 - val_loss: 0.4040 - val_mean_iou: 0.6572\n",
      "\n",
      "Epoch 00004: val_loss improved from 0.40992 to 0.40396, saving model to ../../modele/unet_on_coco.h5\n",
      "Epoch 5/50\n",
      "84895/84895 [==============================] - 258s 3ms/step - loss: 0.2273 - mean_iou: 0.6586 - val_loss: 0.4176 - val_mean_iou: 0.6599\n",
      "\n",
      "Epoch 00005: val_loss did not improve from 0.40396\n",
      "Epoch 6/50\n",
      "84895/84895 [==============================] - 256s 3ms/step - loss: 0.2254 - mean_iou: 0.6611 - val_loss: 0.4050 - val_mean_iou: 0.6614\n",
      "\n",
      "Epoch 00006: val_loss did not improve from 0.40396\n",
      "Epoch 7/50\n",
      "84895/84895 [==============================] - 258s 3ms/step - loss: 0.2228 - mean_iou: 0.6620 - val_loss: 0.4029 - val_mean_iou: 0.6630\n",
      "\n",
      "Epoch 00007: val_loss improved from 0.40396 to 0.40285, saving model to ../../modele/unet_on_coco.h5\n",
      "Epoch 8/50\n",
      "84895/84895 [==============================] - 257s 3ms/step - loss: 0.2211 - mean_iou: 0.6640 - val_loss: 0.3959 - val_mean_iou: 0.6647\n",
      "\n",
      "Epoch 00008: val_loss improved from 0.40285 to 0.39595, saving model to ../../modele/unet_on_coco.h5\n",
      "Epoch 9/50\n",
      "84895/84895 [==============================] - 257s 3ms/step - loss: 0.2203 - mean_iou: 0.6655 - val_loss: 0.4033 - val_mean_iou: 0.6661\n",
      "\n",
      "Epoch 00009: val_loss did not improve from 0.39595\n",
      "Epoch 10/50\n",
      "84895/84895 [==============================] - 258s 3ms/step - loss: 0.2187 - mean_iou: 0.6667 - val_loss: 0.3920 - val_mean_iou: 0.6673\n",
      "\n",
      "Epoch 00010: val_loss improved from 0.39595 to 0.39199, saving model to ../../modele/unet_on_coco.h5\n",
      "Epoch 11/50\n",
      "84895/84895 [==============================] - 257s 3ms/step - loss: 0.2170 - mean_iou: 0.6680 - val_loss: 0.4020 - val_mean_iou: 0.6684\n",
      "\n",
      "Epoch 00011: val_loss did not improve from 0.39199\n",
      "Epoch 12/50\n",
      "84895/84895 [==============================] - 258s 3ms/step - loss: 0.2164 - mean_iou: 0.6688 - val_loss: 0.4003 - val_mean_iou: 0.6698\n",
      "\n",
      "Epoch 00012: val_loss did not improve from 0.39199\n",
      "Epoch 13/50\n",
      "84895/84895 [==============================] - 259s 3ms/step - loss: 0.2151 - mean_iou: 0.6707 - val_loss: 0.3900 - val_mean_iou: 0.6716\n",
      "\n",
      "Epoch 00013: val_loss improved from 0.39199 to 0.39004, saving model to ../../modele/unet_on_coco.h5\n",
      "Epoch 14/50\n",
      "84895/84895 [==============================] - 257s 3ms/step - loss: 0.2141 - mean_iou: 0.6725 - val_loss: 0.3881 - val_mean_iou: 0.6730\n",
      "\n",
      "Epoch 00014: val_loss improved from 0.39004 to 0.38806, saving model to ../../modele/unet_on_coco.h5\n",
      "Epoch 15/50\n",
      "84895/84895 [==============================] - 255s 3ms/step - loss: 0.2132 - mean_iou: 0.6735 - val_loss: 0.4004 - val_mean_iou: 0.6737\n",
      "\n",
      "Epoch 00015: val_loss did not improve from 0.38806\n",
      "Epoch 16/50\n",
      "84895/84895 [==============================] - 254s 3ms/step - loss: 0.2126 - mean_iou: 0.6739 - val_loss: 0.3843 - val_mean_iou: 0.6744\n",
      "\n",
      "Epoch 00016: val_loss improved from 0.38806 to 0.38433, saving model to ../../modele/unet_on_coco.h5\n",
      "Epoch 17/50\n",
      "84895/84895 [==============================] - 255s 3ms/step - loss: 0.2114 - mean_iou: 0.6749 - val_loss: 0.3884 - val_mean_iou: 0.6753\n",
      "\n",
      "Epoch 00017: val_loss did not improve from 0.38433\n",
      "Epoch 18/50\n",
      "84895/84895 [==============================] - 255s 3ms/step - loss: 0.2106 - mean_iou: 0.6756 - val_loss: 0.3933 - val_mean_iou: 0.6758\n",
      "\n",
      "Epoch 00018: val_loss did not improve from 0.38433\n",
      "Epoch 19/50\n",
      "84895/84895 [==============================] - 255s 3ms/step - loss: 0.2100 - mean_iou: 0.6760 - val_loss: 0.3800 - val_mean_iou: 0.6764\n",
      "\n",
      "Epoch 00019: val_loss improved from 0.38433 to 0.37999, saving model to ../../modele/unet_on_coco.h5\n",
      "Epoch 20/50\n",
      "84895/84895 [==============================] - 255s 3ms/step - loss: 0.2098 - mean_iou: 0.6768 - val_loss: 0.3838 - val_mean_iou: 0.6772\n",
      "\n",
      "Epoch 00020: val_loss did not improve from 0.37999\n",
      "Epoch 21/50\n",
      "84895/84895 [==============================] - 255s 3ms/step - loss: 0.2093 - mean_iou: 0.6777 - val_loss: 0.3921 - val_mean_iou: 0.6779\n",
      "\n",
      "Epoch 00021: val_loss did not improve from 0.37999\n",
      "Epoch 22/50\n",
      "84895/84895 [==============================] - 255s 3ms/step - loss: 0.2083 - mean_iou: 0.6781 - val_loss: 0.3934 - val_mean_iou: 0.6783\n",
      "\n",
      "Epoch 00022: val_loss did not improve from 0.37999\n",
      "Epoch 23/50\n",
      "84895/84895 [==============================] - 254s 3ms/step - loss: 0.2080 - mean_iou: 0.6785 - val_loss: 0.3903 - val_mean_iou: 0.6788\n",
      "\n",
      "Epoch 00023: val_loss did not improve from 0.37999\n",
      "Epoch 24/50\n",
      "84895/84895 [==============================] - 255s 3ms/step - loss: 0.2069 - mean_iou: 0.6791 - val_loss: 0.3879 - val_mean_iou: 0.6794\n",
      "\n",
      "Epoch 00024: val_loss did not improve from 0.37999\n",
      "Epoch 00024: early stopping\n"
     ]
    }
   ],
   "source": [
    "# Fit model\n",
    "earlystopper = EarlyStopping(patience=5, verbose=1)\n",
    "checkpointer = ModelCheckpoint('../../modele/unet_on_coco.h5', verbose=1, save_best_only=True)\n",
    "results = model.fit(X_train, Y_train, validation_split=0.1, batch_size=8, epochs=50, \n",
    "                    callbacks=[earlystopper, checkpointer])"
   ]
  },
  {
   "cell_type": "code",
   "execution_count": 2,
   "metadata": {},
   "outputs": [
    {
     "ename": "NameError",
     "evalue": "name 'load_model' is not defined",
     "output_type": "error",
     "traceback": [
      "\u001b[0;31m---------------------------------------------------------------------------\u001b[0m",
      "\u001b[0;31mNameError\u001b[0m                                 Traceback (most recent call last)",
      "\u001b[0;32m<ipython-input-2-b0e407fb54be>\u001b[0m in \u001b[0;36m<module>\u001b[0;34m\u001b[0m\n\u001b[1;32m      2\u001b[0m \u001b[0;34m\u001b[0m\u001b[0m\n\u001b[1;32m      3\u001b[0m \u001b[0;31m# Predict on train, val and test\u001b[0m\u001b[0;34m\u001b[0m\u001b[0;34m\u001b[0m\u001b[0m\n\u001b[0;32m----> 4\u001b[0;31m \u001b[0mmodel\u001b[0m \u001b[0;34m=\u001b[0m \u001b[0mload_model\u001b[0m\u001b[0;34m(\u001b[0m\u001b[0;34m'../../modele/unet_on_coco.h5'\u001b[0m\u001b[0;34m,\u001b[0m \u001b[0mcustom_objects\u001b[0m\u001b[0;34m=\u001b[0m\u001b[0;34m{\u001b[0m\u001b[0;34m'mean_iou'\u001b[0m\u001b[0;34m:\u001b[0m \u001b[0mmean_iou\u001b[0m\u001b[0;34m}\u001b[0m\u001b[0;34m)\u001b[0m\u001b[0;34m\u001b[0m\u001b[0m\n\u001b[0m\u001b[1;32m      5\u001b[0m \u001b[0mpreds_train\u001b[0m \u001b[0;34m=\u001b[0m \u001b[0mmodel\u001b[0m\u001b[0;34m.\u001b[0m\u001b[0mpredict\u001b[0m\u001b[0;34m(\u001b[0m\u001b[0mX_train\u001b[0m\u001b[0;34m[\u001b[0m\u001b[0;34m:\u001b[0m\u001b[0mint\u001b[0m\u001b[0;34m(\u001b[0m\u001b[0mX_train\u001b[0m\u001b[0;34m.\u001b[0m\u001b[0mshape\u001b[0m\u001b[0;34m[\u001b[0m\u001b[0;36m0\u001b[0m\u001b[0;34m]\u001b[0m\u001b[0;34m*\u001b[0m\u001b[0;36m0.9\u001b[0m\u001b[0;34m)\u001b[0m\u001b[0;34m]\u001b[0m\u001b[0;34m,\u001b[0m \u001b[0mverbose\u001b[0m\u001b[0;34m=\u001b[0m\u001b[0;36m1\u001b[0m\u001b[0;34m)\u001b[0m\u001b[0;34m\u001b[0m\u001b[0m\n\u001b[1;32m      6\u001b[0m \u001b[0mpreds_val\u001b[0m \u001b[0;34m=\u001b[0m \u001b[0mmodel\u001b[0m\u001b[0;34m.\u001b[0m\u001b[0mpredict\u001b[0m\u001b[0;34m(\u001b[0m\u001b[0mX_train\u001b[0m\u001b[0;34m[\u001b[0m\u001b[0mint\u001b[0m\u001b[0;34m(\u001b[0m\u001b[0mX_train\u001b[0m\u001b[0;34m.\u001b[0m\u001b[0mshape\u001b[0m\u001b[0;34m[\u001b[0m\u001b[0;36m0\u001b[0m\u001b[0;34m]\u001b[0m\u001b[0;34m*\u001b[0m\u001b[0;36m0.9\u001b[0m\u001b[0;34m)\u001b[0m\u001b[0;34m:\u001b[0m\u001b[0;34m]\u001b[0m\u001b[0;34m,\u001b[0m \u001b[0mverbose\u001b[0m\u001b[0;34m=\u001b[0m\u001b[0;36m1\u001b[0m\u001b[0;34m)\u001b[0m\u001b[0;34m\u001b[0m\u001b[0m\n",
      "\u001b[0;31mNameError\u001b[0m: name 'load_model' is not defined"
     ]
    }
   ],
   "source": [
    "\n",
    "\n",
    "# Predict on train, val and test\n",
    "model = load_model('../../modele/unet_on_coco.h5', custom_objects={'mean_iou': mean_iou})\n",
    "preds_train = model.predict(X_train[:int(X_train.shape[0]*0.9)], verbose=1)\n",
    "preds_val = model.predict(X_train[int(X_train.shape[0]*0.9):], verbose=1)\n",
    "preds_test = model.predict(X_test, verbose=1)\n",
    "\n",
    "# Threshold predictions\n",
    "preds_train_t = (preds_train > 0.5).astype(np.uint8)\n",
    "preds_val_t = (preds_val > 0.5).astype(np.uint8)\n",
    "preds_test_t = (preds_test > 0.5).astype(np.uint8)\n",
    "\n",
    "# Create list of upsampled test masks\n",
    "preds_test_upsampled = []\n",
    "for i in range(len(preds_test)):\n",
    "    preds_test_upsampled.append(resize(np.squeeze(preds_test[i]), \n",
    "                                       (sizes_test[i][0], sizes_test[i][1]), \n",
    "                                       mode='constant', preserve_range=True))"
   ]
  },
  {
   "cell_type": "code",
   "execution_count": null,
   "metadata": {},
   "outputs": [],
   "source": [
    "# Perform a sanity check on some random training samples\n",
    "ix = random.randint(0, len(preds_train_t))\n",
    "imshow(X_train[ix])\n",
    "plt.show()\n",
    "imshow(np.squeeze(Y_train[ix]))\n",
    "plt.show()\n",
    "imshow(np.squeeze(preds_train_t[ix]))\n",
    "plt.show()"
   ]
  },
  {
   "cell_type": "code",
   "execution_count": null,
   "metadata": {},
   "outputs": [],
   "source": [
    "# Perform a sanity check on some random validation samples\n",
    "ix = random.randint(0, len(preds_val_t))\n",
    "imshow(X_train[int(X_train.shape[0]*0.9):][ix])\n",
    "plt.show()\n",
    "imshow(np.squeeze(Y_train[int(Y_train.shape[0]*0.9):][ix]))\n",
    "plt.show()\n",
    "imshow(np.squeeze(preds_val_t[ix]))\n",
    "plt.show()"
   ]
  },
  {
   "cell_type": "code",
   "execution_count": null,
   "metadata": {},
   "outputs": [],
   "source": [
    "# Perform a sanity check on some random validation samples\n",
    "print(len(preds_test_t))\n",
    "ix = random.randint(0, len(preds_test_t)-1)\n",
    "print(X_train.shape[0])\n",
    "print(X_test.shape[0])\n",
    "print(int(X_test.shape[0]*0.9))\n",
    "print(ix)\n",
    "imshow(X_test[ix])\n",
    "plt.show()\n",
    "imshow(np.squeeze(preds_test_t[ix]))\n",
    "plt.show()"
   ]
  },
  {
   "cell_type": "code",
   "execution_count": null,
   "metadata": {},
   "outputs": [],
   "source": []
  }
 ],
 "metadata": {
  "kernelspec": {
   "display_name": "TensorFlow-GPU",
   "language": "python",
   "name": "tf-gpu"
  },
  "language_info": {
   "codemirror_mode": {
    "name": "ipython",
    "version": 3
   },
   "file_extension": ".py",
   "mimetype": "text/x-python",
   "name": "python",
   "nbconvert_exporter": "python",
   "pygments_lexer": "ipython3",
   "version": "3.6.6"
  }
 },
 "nbformat": 4,
 "nbformat_minor": 2
}
